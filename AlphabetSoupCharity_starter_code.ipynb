{
 "cells": [
  {
   "cell_type": "markdown",
   "metadata": {},
   "source": [
    "### Deliverable 1: Preprocessing the Data for a Neural Network"
   ]
  },
  {
   "cell_type": "code",
   "execution_count": 20,
   "metadata": {},
   "outputs": [
    {
     "name": "stdout",
     "output_type": "stream",
     "text": [
      "Requirement already satisfied: tensorflow in c:\\users\\dlh\\anaconda4\\lib\\site-packages (2.4.1)\n",
      "Requirement already satisfied: protobuf>=3.9.2 in c:\\users\\dlh\\anaconda4\\lib\\site-packages (from tensorflow) (3.15.1)\n",
      "Requirement already satisfied: tensorflow-estimator<2.5.0,>=2.4.0 in c:\\users\\dlh\\anaconda4\\lib\\site-packages (from tensorflow) (2.4.0)\n",
      "Requirement already satisfied: astunparse~=1.6.3 in c:\\users\\dlh\\anaconda4\\lib\\site-packages (from tensorflow) (1.6.3)\n",
      "Requirement already satisfied: six~=1.15.0 in c:\\users\\dlh\\anaconda4\\lib\\site-packages (from tensorflow) (1.15.0)\n",
      "Requirement already satisfied: wrapt~=1.12.1 in c:\\users\\dlh\\anaconda4\\lib\\site-packages (from tensorflow) (1.12.1)\n",
      "Requirement already satisfied: numpy~=1.19.2 in c:\\users\\dlh\\anaconda4\\lib\\site-packages (from tensorflow) (1.19.5)\n",
      "Requirement already satisfied: h5py~=2.10.0 in c:\\users\\dlh\\anaconda4\\lib\\site-packages (from tensorflow) (2.10.0)\n",
      "Requirement already satisfied: flatbuffers~=1.12.0 in c:\\users\\dlh\\anaconda4\\lib\\site-packages (from tensorflow) (1.12)\n",
      "Requirement already satisfied: wheel~=0.35 in c:\\users\\dlh\\anaconda4\\lib\\site-packages (from tensorflow) (0.36.2)\n",
      "Requirement already satisfied: tensorboard~=2.4 in c:\\users\\dlh\\anaconda4\\lib\\site-packages (from tensorflow) (2.4.1)\n",
      "Requirement already satisfied: opt-einsum~=3.3.0 in c:\\users\\dlh\\anaconda4\\lib\\site-packages (from tensorflow) (3.3.0)\n",
      "Requirement already satisfied: google-pasta~=0.2 in c:\\users\\dlh\\anaconda4\\lib\\site-packages (from tensorflow) (0.2.0)\n",
      "Requirement already satisfied: typing-extensions~=3.7.4 in c:\\users\\dlh\\anaconda4\\lib\\site-packages (from tensorflow) (3.7.4.2)\n",
      "Requirement already satisfied: gast==0.3.3 in c:\\users\\dlh\\anaconda4\\lib\\site-packages (from tensorflow) (0.3.3)\n",
      "Requirement already satisfied: keras-preprocessing~=1.1.2 in c:\\users\\dlh\\anaconda4\\lib\\site-packages (from tensorflow) (1.1.2)\n",
      "Requirement already satisfied: termcolor~=1.1.0 in c:\\users\\dlh\\anaconda4\\lib\\site-packages (from tensorflow) (1.1.0)\n",
      "Requirement already satisfied: grpcio~=1.32.0 in c:\\users\\dlh\\anaconda4\\lib\\site-packages (from tensorflow) (1.32.0)\n",
      "Requirement already satisfied: absl-py~=0.10 in c:\\users\\dlh\\anaconda4\\lib\\site-packages (from tensorflow) (0.11.0)\n",
      "Requirement already satisfied: werkzeug>=0.11.15 in c:\\users\\dlh\\anaconda4\\lib\\site-packages (from tensorboard~=2.4->tensorflow) (1.0.1)\n",
      "Requirement already satisfied: google-auth<2,>=1.6.3 in c:\\users\\dlh\\anaconda4\\lib\\site-packages (from tensorboard~=2.4->tensorflow) (1.27.0)\n",
      "Requirement already satisfied: requests<3,>=2.21.0 in c:\\users\\dlh\\anaconda4\\lib\\site-packages (from tensorboard~=2.4->tensorflow) (2.24.0)\n",
      "Requirement already satisfied: tensorboard-plugin-wit>=1.6.0 in c:\\users\\dlh\\anaconda4\\lib\\site-packages (from tensorboard~=2.4->tensorflow) (1.8.0)\n",
      "Requirement already satisfied: markdown>=2.6.8 in c:\\users\\dlh\\anaconda4\\lib\\site-packages (from tensorboard~=2.4->tensorflow) (3.3.3)\n",
      "Requirement already satisfied: google-auth-oauthlib<0.5,>=0.4.1 in c:\\users\\dlh\\anaconda4\\lib\\site-packages (from tensorboard~=2.4->tensorflow) (0.4.2)\n",
      "Requirement already satisfied: setuptools>=41.0.0 in c:\\users\\dlh\\anaconda4\\lib\\site-packages (from tensorboard~=2.4->tensorflow) (49.2.0.post20200714)\n",
      "Requirement already satisfied: rsa<5,>=3.1.4; python_version >= \"3.6\" in c:\\users\\dlh\\anaconda4\\lib\\site-packages (from google-auth<2,>=1.6.3->tensorboard~=2.4->tensorflow) (4.7.1)\n",
      "Requirement already satisfied: pyasn1-modules>=0.2.1 in c:\\users\\dlh\\anaconda4\\lib\\site-packages (from google-auth<2,>=1.6.3->tensorboard~=2.4->tensorflow) (0.2.8)\n",
      "Requirement already satisfied: cachetools<5.0,>=2.0.0 in c:\\users\\dlh\\anaconda4\\lib\\site-packages (from google-auth<2,>=1.6.3->tensorboard~=2.4->tensorflow) (4.2.1)\n",
      "Requirement already satisfied: urllib3!=1.25.0,!=1.25.1,<1.26,>=1.21.1 in c:\\users\\dlh\\anaconda4\\lib\\site-packages (from requests<3,>=2.21.0->tensorboard~=2.4->tensorflow) (1.25.9)\n",
      "Requirement already satisfied: chardet<4,>=3.0.2 in c:\\users\\dlh\\anaconda4\\lib\\site-packages (from requests<3,>=2.21.0->tensorboard~=2.4->tensorflow) (3.0.4)\n",
      "Requirement already satisfied: certifi>=2017.4.17 in c:\\users\\dlh\\anaconda4\\lib\\site-packages (from requests<3,>=2.21.0->tensorboard~=2.4->tensorflow) (2020.6.20)\n",
      "Requirement already satisfied: idna<3,>=2.5 in c:\\users\\dlh\\anaconda4\\lib\\site-packages (from requests<3,>=2.21.0->tensorboard~=2.4->tensorflow) (2.10)\n",
      "Requirement already satisfied: requests-oauthlib>=0.7.0 in c:\\users\\dlh\\anaconda4\\lib\\site-packages (from google-auth-oauthlib<0.5,>=0.4.1->tensorboard~=2.4->tensorflow) (1.3.0)\n",
      "Requirement already satisfied: pyasn1>=0.1.3 in c:\\users\\dlh\\anaconda4\\lib\\site-packages (from rsa<5,>=3.1.4; python_version >= \"3.6\"->google-auth<2,>=1.6.3->tensorboard~=2.4->tensorflow) (0.4.8)\n",
      "Requirement already satisfied: oauthlib>=3.0.0 in c:\\users\\dlh\\anaconda4\\lib\\site-packages (from requests-oauthlib>=0.7.0->google-auth-oauthlib<0.5,>=0.4.1->tensorboard~=2.4->tensorflow) (3.1.0)\n",
      "Requirement already satisfied: sklearn in c:\\users\\dlh\\anaconda4\\lib\\site-packages (0.0)\n",
      "Requirement already satisfied: scikit-learn in c:\\users\\dlh\\anaconda4\\lib\\site-packages (from sklearn) (0.23.1)\n",
      "Requirement already satisfied: threadpoolctl>=2.0.0 in c:\\users\\dlh\\anaconda4\\lib\\site-packages (from scikit-learn->sklearn) (2.1.0)\n",
      "Requirement already satisfied: numpy>=1.13.3 in c:\\users\\dlh\\anaconda4\\lib\\site-packages (from scikit-learn->sklearn) (1.19.5)\n",
      "Requirement already satisfied: joblib>=0.11 in c:\\users\\dlh\\anaconda4\\lib\\site-packages (from scikit-learn->sklearn) (0.16.0)\n",
      "Requirement already satisfied: scipy>=0.19.1 in c:\\users\\dlh\\anaconda4\\lib\\site-packages (from scikit-learn->sklearn) (1.5.0)\n"
     ]
    }
   ],
   "source": [
    "# Import our dependencies\n",
    "from sklearn.model_selection import train_test_split\n",
    "from sklearn.preprocessing import StandardScaler,OneHotEncoder\n",
    "import pandas as pd\n",
    "!pip install tensorflow\n",
    "!pip install sklearn\n",
    "import tensorflow as tf"
   ]
  },
  {
   "cell_type": "code",
   "execution_count": 2,
   "metadata": {},
   "outputs": [
    {
     "data": {
      "text/html": [
       "<div>\n",
       "<style scoped>\n",
       "    .dataframe tbody tr th:only-of-type {\n",
       "        vertical-align: middle;\n",
       "    }\n",
       "\n",
       "    .dataframe tbody tr th {\n",
       "        vertical-align: top;\n",
       "    }\n",
       "\n",
       "    .dataframe thead th {\n",
       "        text-align: right;\n",
       "    }\n",
       "</style>\n",
       "<table border=\"1\" class=\"dataframe\">\n",
       "  <thead>\n",
       "    <tr style=\"text-align: right;\">\n",
       "      <th></th>\n",
       "      <th>EIN</th>\n",
       "      <th>NAME</th>\n",
       "      <th>APPLICATION_TYPE</th>\n",
       "      <th>AFFILIATION</th>\n",
       "      <th>CLASSIFICATION</th>\n",
       "      <th>USE_CASE</th>\n",
       "      <th>ORGANIZATION</th>\n",
       "      <th>STATUS</th>\n",
       "      <th>INCOME_AMT</th>\n",
       "      <th>SPECIAL_CONSIDERATIONS</th>\n",
       "      <th>ASK_AMT</th>\n",
       "      <th>IS_SUCCESSFUL</th>\n",
       "    </tr>\n",
       "  </thead>\n",
       "  <tbody>\n",
       "    <tr>\n",
       "      <th>0</th>\n",
       "      <td>10520599</td>\n",
       "      <td>BLUE KNIGHTS MOTORCYCLE CLUB</td>\n",
       "      <td>T10</td>\n",
       "      <td>Independent</td>\n",
       "      <td>C1000</td>\n",
       "      <td>ProductDev</td>\n",
       "      <td>Association</td>\n",
       "      <td>1</td>\n",
       "      <td>0</td>\n",
       "      <td>N</td>\n",
       "      <td>5000</td>\n",
       "      <td>1</td>\n",
       "    </tr>\n",
       "    <tr>\n",
       "      <th>1</th>\n",
       "      <td>10531628</td>\n",
       "      <td>AMERICAN CHESAPEAKE CLUB CHARITABLE TR</td>\n",
       "      <td>T3</td>\n",
       "      <td>Independent</td>\n",
       "      <td>C2000</td>\n",
       "      <td>Preservation</td>\n",
       "      <td>Co-operative</td>\n",
       "      <td>1</td>\n",
       "      <td>1-9999</td>\n",
       "      <td>N</td>\n",
       "      <td>108590</td>\n",
       "      <td>1</td>\n",
       "    </tr>\n",
       "    <tr>\n",
       "      <th>2</th>\n",
       "      <td>10547893</td>\n",
       "      <td>ST CLOUD PROFESSIONAL FIREFIGHTERS</td>\n",
       "      <td>T5</td>\n",
       "      <td>CompanySponsored</td>\n",
       "      <td>C3000</td>\n",
       "      <td>ProductDev</td>\n",
       "      <td>Association</td>\n",
       "      <td>1</td>\n",
       "      <td>0</td>\n",
       "      <td>N</td>\n",
       "      <td>5000</td>\n",
       "      <td>0</td>\n",
       "    </tr>\n",
       "    <tr>\n",
       "      <th>3</th>\n",
       "      <td>10553066</td>\n",
       "      <td>SOUTHSIDE ATHLETIC ASSOCIATION</td>\n",
       "      <td>T3</td>\n",
       "      <td>CompanySponsored</td>\n",
       "      <td>C2000</td>\n",
       "      <td>Preservation</td>\n",
       "      <td>Trust</td>\n",
       "      <td>1</td>\n",
       "      <td>10000-24999</td>\n",
       "      <td>N</td>\n",
       "      <td>6692</td>\n",
       "      <td>1</td>\n",
       "    </tr>\n",
       "    <tr>\n",
       "      <th>4</th>\n",
       "      <td>10556103</td>\n",
       "      <td>GENETIC RESEARCH INSTITUTE OF THE DESERT</td>\n",
       "      <td>T3</td>\n",
       "      <td>Independent</td>\n",
       "      <td>C1000</td>\n",
       "      <td>Heathcare</td>\n",
       "      <td>Trust</td>\n",
       "      <td>1</td>\n",
       "      <td>100000-499999</td>\n",
       "      <td>N</td>\n",
       "      <td>142590</td>\n",
       "      <td>1</td>\n",
       "    </tr>\n",
       "  </tbody>\n",
       "</table>\n",
       "</div>"
      ],
      "text/plain": [
       "        EIN                                      NAME APPLICATION_TYPE  \\\n",
       "0  10520599              BLUE KNIGHTS MOTORCYCLE CLUB              T10   \n",
       "1  10531628    AMERICAN CHESAPEAKE CLUB CHARITABLE TR               T3   \n",
       "2  10547893        ST CLOUD PROFESSIONAL FIREFIGHTERS               T5   \n",
       "3  10553066            SOUTHSIDE ATHLETIC ASSOCIATION               T3   \n",
       "4  10556103  GENETIC RESEARCH INSTITUTE OF THE DESERT               T3   \n",
       "\n",
       "        AFFILIATION CLASSIFICATION      USE_CASE  ORGANIZATION  STATUS  \\\n",
       "0       Independent          C1000    ProductDev   Association       1   \n",
       "1       Independent          C2000  Preservation  Co-operative       1   \n",
       "2  CompanySponsored          C3000    ProductDev   Association       1   \n",
       "3  CompanySponsored          C2000  Preservation         Trust       1   \n",
       "4       Independent          C1000     Heathcare         Trust       1   \n",
       "\n",
       "      INCOME_AMT SPECIAL_CONSIDERATIONS  ASK_AMT  IS_SUCCESSFUL  \n",
       "0              0                      N     5000              1  \n",
       "1         1-9999                      N   108590              1  \n",
       "2              0                      N     5000              0  \n",
       "3    10000-24999                      N     6692              1  \n",
       "4  100000-499999                      N   142590              1  "
      ]
     },
     "execution_count": 2,
     "metadata": {},
     "output_type": "execute_result"
    }
   ],
   "source": [
    "#  Import and read the charity_data.csv.\n",
    "import pandas as pd \n",
    "application_df = pd.read_csv(r\"C:\\Users\\DLH\\Documents\\Module 19\\charity_data.csv\")\n",
    "application_df.head()"
   ]
  },
  {
   "cell_type": "code",
   "execution_count": 3,
   "metadata": {},
   "outputs": [
    {
     "data": {
      "text/html": [
       "<div>\n",
       "<style scoped>\n",
       "    .dataframe tbody tr th:only-of-type {\n",
       "        vertical-align: middle;\n",
       "    }\n",
       "\n",
       "    .dataframe tbody tr th {\n",
       "        vertical-align: top;\n",
       "    }\n",
       "\n",
       "    .dataframe thead th {\n",
       "        text-align: right;\n",
       "    }\n",
       "</style>\n",
       "<table border=\"1\" class=\"dataframe\">\n",
       "  <thead>\n",
       "    <tr style=\"text-align: right;\">\n",
       "      <th></th>\n",
       "      <th>APPLICATION_TYPE</th>\n",
       "      <th>AFFILIATION</th>\n",
       "      <th>CLASSIFICATION</th>\n",
       "      <th>USE_CASE</th>\n",
       "      <th>ORGANIZATION</th>\n",
       "      <th>STATUS</th>\n",
       "      <th>INCOME_AMT</th>\n",
       "      <th>SPECIAL_CONSIDERATIONS</th>\n",
       "      <th>ASK_AMT</th>\n",
       "      <th>IS_SUCCESSFUL</th>\n",
       "    </tr>\n",
       "  </thead>\n",
       "  <tbody>\n",
       "    <tr>\n",
       "      <th>0</th>\n",
       "      <td>T10</td>\n",
       "      <td>Independent</td>\n",
       "      <td>C1000</td>\n",
       "      <td>ProductDev</td>\n",
       "      <td>Association</td>\n",
       "      <td>1</td>\n",
       "      <td>0</td>\n",
       "      <td>N</td>\n",
       "      <td>5000</td>\n",
       "      <td>1</td>\n",
       "    </tr>\n",
       "    <tr>\n",
       "      <th>1</th>\n",
       "      <td>T3</td>\n",
       "      <td>Independent</td>\n",
       "      <td>C2000</td>\n",
       "      <td>Preservation</td>\n",
       "      <td>Co-operative</td>\n",
       "      <td>1</td>\n",
       "      <td>1-9999</td>\n",
       "      <td>N</td>\n",
       "      <td>108590</td>\n",
       "      <td>1</td>\n",
       "    </tr>\n",
       "    <tr>\n",
       "      <th>2</th>\n",
       "      <td>T5</td>\n",
       "      <td>CompanySponsored</td>\n",
       "      <td>C3000</td>\n",
       "      <td>ProductDev</td>\n",
       "      <td>Association</td>\n",
       "      <td>1</td>\n",
       "      <td>0</td>\n",
       "      <td>N</td>\n",
       "      <td>5000</td>\n",
       "      <td>0</td>\n",
       "    </tr>\n",
       "    <tr>\n",
       "      <th>3</th>\n",
       "      <td>T3</td>\n",
       "      <td>CompanySponsored</td>\n",
       "      <td>C2000</td>\n",
       "      <td>Preservation</td>\n",
       "      <td>Trust</td>\n",
       "      <td>1</td>\n",
       "      <td>10000-24999</td>\n",
       "      <td>N</td>\n",
       "      <td>6692</td>\n",
       "      <td>1</td>\n",
       "    </tr>\n",
       "    <tr>\n",
       "      <th>4</th>\n",
       "      <td>T3</td>\n",
       "      <td>Independent</td>\n",
       "      <td>C1000</td>\n",
       "      <td>Heathcare</td>\n",
       "      <td>Trust</td>\n",
       "      <td>1</td>\n",
       "      <td>100000-499999</td>\n",
       "      <td>N</td>\n",
       "      <td>142590</td>\n",
       "      <td>1</td>\n",
       "    </tr>\n",
       "  </tbody>\n",
       "</table>\n",
       "</div>"
      ],
      "text/plain": [
       "  APPLICATION_TYPE       AFFILIATION CLASSIFICATION      USE_CASE  \\\n",
       "0              T10       Independent          C1000    ProductDev   \n",
       "1               T3       Independent          C2000  Preservation   \n",
       "2               T5  CompanySponsored          C3000    ProductDev   \n",
       "3               T3  CompanySponsored          C2000  Preservation   \n",
       "4               T3       Independent          C1000     Heathcare   \n",
       "\n",
       "   ORGANIZATION  STATUS     INCOME_AMT SPECIAL_CONSIDERATIONS  ASK_AMT  \\\n",
       "0   Association       1              0                      N     5000   \n",
       "1  Co-operative       1         1-9999                      N   108590   \n",
       "2   Association       1              0                      N     5000   \n",
       "3         Trust       1    10000-24999                      N     6692   \n",
       "4         Trust       1  100000-499999                      N   142590   \n",
       "\n",
       "   IS_SUCCESSFUL  \n",
       "0              1  \n",
       "1              1  \n",
       "2              0  \n",
       "3              1  \n",
       "4              1  "
      ]
     },
     "execution_count": 3,
     "metadata": {},
     "output_type": "execute_result"
    }
   ],
   "source": [
    "# Drop the non-beneficial ID columns, 'EIN' and 'NAME'.\n",
    "application_df = application_df.drop(columns = ['EIN', 'NAME'])\n",
    "application_df.head()\n"
   ]
  },
  {
   "cell_type": "code",
   "execution_count": 4,
   "metadata": {},
   "outputs": [
    {
     "data": {
      "text/plain": [
       "APPLICATION_TYPE            17\n",
       "AFFILIATION                  6\n",
       "CLASSIFICATION              71\n",
       "USE_CASE                     5\n",
       "ORGANIZATION                 4\n",
       "STATUS                       2\n",
       "INCOME_AMT                   9\n",
       "SPECIAL_CONSIDERATIONS       2\n",
       "ASK_AMT                   8747\n",
       "IS_SUCCESSFUL                2\n",
       "dtype: int64"
      ]
     },
     "execution_count": 4,
     "metadata": {},
     "output_type": "execute_result"
    }
   ],
   "source": [
    "# Determine the number of unique values in each column.\n",
    "application_df.nunique()"
   ]
  },
  {
   "cell_type": "code",
   "execution_count": 5,
   "metadata": {},
   "outputs": [
    {
     "data": {
      "text/plain": [
       "T3     27037\n",
       "T4      1542\n",
       "T6      1216\n",
       "T5      1173\n",
       "T19     1065\n",
       "T8       737\n",
       "T7       725\n",
       "T10      528\n",
       "T9       156\n",
       "T13       66\n",
       "T12       27\n",
       "T2        16\n",
       "T14        3\n",
       "T25        3\n",
       "T29        2\n",
       "T15        2\n",
       "T17        1\n",
       "Name: APPLICATION_TYPE, dtype: int64"
      ]
     },
     "execution_count": 5,
     "metadata": {},
     "output_type": "execute_result"
    }
   ],
   "source": [
    "# Look at APPLICATION_TYPE value counts for binning\n",
    "application_df[\"APPLICATION_TYPE\"].value_counts()"
   ]
  },
  {
   "cell_type": "code",
   "execution_count": 6,
   "metadata": {},
   "outputs": [
    {
     "data": {
      "text/plain": [
       "[<matplotlib.lines.Line2D at 0x27c3a0acf10>]"
      ]
     },
     "execution_count": 6,
     "metadata": {},
     "output_type": "execute_result"
    },
    {
     "data": {
      "image/png": "[encoded data removed]",
      "text/plain": [
       "<Figure size 432x288 with 1 Axes>"
      ]
     },
     "metadata": {
      "needs_background": "light"
     },
     "output_type": "display_data"
    }
   ],
   "source": [
    "# Visualize the value counts of APPLICATION_TYPE\n",
    "import matplotlib.pyplot as plt\n",
    "plt.plot(application_df[\"APPLICATION_TYPE\"].value_counts())"
   ]
  },
  {
   "cell_type": "code",
   "execution_count": 7,
   "metadata": {},
   "outputs": [
    {
     "data": {
      "text/plain": [
       "T3     27037\n",
       "T4      1542\n",
       "T6      1216\n",
       "T5      1173\n",
       "T19     1065\n",
       "T8       737\n",
       "T7       725\n",
       "T10      528\n",
       "T9       156\n",
       "T13       66\n",
       "T12       27\n",
       "T2        16\n",
       "T14        3\n",
       "T25        3\n",
       "T29        2\n",
       "T15        2\n",
       "T17        1\n",
       "Name: APPLICATION_TYPE, dtype: int64"
      ]
     },
     "execution_count": 7,
     "metadata": {},
     "output_type": "execute_result"
    }
   ],
   "source": [
    "# Determine which values to replace if counts are less than ...?\n",
    "\n",
    "replace_application = application_df[\"APPLICATION_TYPE\"].value_counts() > 10\n",
    "\n",
    "# Replace in dataframe\n",
    "for app in replace_application:\n",
    "    application_df.APPLICATION_TYPE = application_df.APPLICATION_TYPE.replace(app,\"Other\")\n",
    "    \n",
    "# Check to make sure binning was successful\n",
    "application_df.APPLICATION_TYPE.value_counts()"
   ]
  },
  {
   "cell_type": "code",
   "execution_count": 8,
   "metadata": {},
   "outputs": [
    {
     "data": {
      "text/plain": [
       "C1000    17326\n",
       "C2000     6074\n",
       "C1200     4837\n",
       "C3000     1918\n",
       "C2100     1883\n",
       "         ...  \n",
       "C4500        1\n",
       "C1820        1\n",
       "C4200        1\n",
       "C2190        1\n",
       "C4120        1\n",
       "Name: CLASSIFICATION, Length: 71, dtype: int64"
      ]
     },
     "execution_count": 8,
     "metadata": {},
     "output_type": "execute_result"
    }
   ],
   "source": [
    "# Look at CLASSIFICATION value counts for binning\n",
    "application_df[\"CLASSIFICATION\"].value_counts()"
   ]
  },
  {
   "cell_type": "code",
   "execution_count": 9,
   "metadata": {},
   "outputs": [
    {
     "data": {
      "text/plain": [
       "[<matplotlib.lines.Line2D at 0x27c3a17cb20>]"
      ]
     },
     "execution_count": 9,
     "metadata": {},
     "output_type": "execute_result"
    },
    {
     "data": {
      "image/png": "[encoded data removed]",
      "text/plain": [
       "<Figure size 432x288 with 1 Axes>"
      ]
     },
     "metadata": {
      "needs_background": "light"
     },
     "output_type": "display_data"
    }
   ],
   "source": [
    "# Visualize the value counts of CLASSIFICATION\n",
    "plt.plot(application_df[\"CLASSIFICATION\"].value_counts())\n",
    "#  YOUR CODE GOES HERE"
   ]
  },
  {
   "cell_type": "code",
   "execution_count": 10,
   "metadata": {},
   "outputs": [
    {
     "data": {
      "text/plain": [
       "C1000    17326\n",
       "C2000     6074\n",
       "C1200     4837\n",
       "C3000     1918\n",
       "C2100     1883\n",
       "         ...  \n",
       "C4500        1\n",
       "C1820        1\n",
       "C4200        1\n",
       "C2190        1\n",
       "C4120        1\n",
       "Name: CLASSIFICATION, Length: 71, dtype: int64"
      ]
     },
     "execution_count": 10,
     "metadata": {},
     "output_type": "execute_result"
    }
   ],
   "source": [
    "# Determine which values to replace if counts are less than ..?\n",
    "#  YOUR CODE GOES HERE\n",
    "replace_class = application_df[\"CLASSIFICATION\"].value_counts() > 10\n",
    "\n",
    "# Replace in dataframe\n",
    "for cls in replace_class:\n",
    "    application_df.CLASSIFICATION = application_df.CLASSIFICATION.replace(cls,\"Other\")\n",
    "    \n",
    "# Check to make sure binning was successful\n",
    "application_df.CLASSIFICATION.value_counts()"
   ]
  },
  {
   "cell_type": "code",
   "execution_count": 11,
   "metadata": {},
   "outputs": [
    {
     "name": "stdout",
     "output_type": "stream",
     "text": [
      "['ORGANIZATION', 'APPLICATION_TYPE', 'SPECIAL_CONSIDERATIONS', 'USE_CASE', 'INCOME_AMT', 'AFFILIATION', 'CLASSIFICATION']\n"
     ]
    }
   ],
   "source": [
    "# Generate our categorical variable lists\n",
    "#  YOUR CODE GOES HERE\n",
    "num_cols = application_df._get_numeric_data().columns\n",
    "application_cat = list(set(application_df.columns)-set(num_cols))\n",
    "print(application_cat)"
   ]
  },
  {
   "cell_type": "code",
   "execution_count": 12,
   "metadata": {},
   "outputs": [
    {
     "data": {
      "text/html": [
       "<div>\n",
       "<style scoped>\n",
       "    .dataframe tbody tr th:only-of-type {\n",
       "        vertical-align: middle;\n",
       "    }\n",
       "\n",
       "    .dataframe tbody tr th {\n",
       "        vertical-align: top;\n",
       "    }\n",
       "\n",
       "    .dataframe thead th {\n",
       "        text-align: right;\n",
       "    }\n",
       "</style>\n",
       "<table border=\"1\" class=\"dataframe\">\n",
       "  <thead>\n",
       "    <tr style=\"text-align: right;\">\n",
       "      <th></th>\n",
       "      <th>ORGANIZATION_Association</th>\n",
       "      <th>ORGANIZATION_Co-operative</th>\n",
       "      <th>ORGANIZATION_Corporation</th>\n",
       "      <th>ORGANIZATION_Trust</th>\n",
       "      <th>APPLICATION_TYPE_T10</th>\n",
       "      <th>APPLICATION_TYPE_T12</th>\n",
       "      <th>APPLICATION_TYPE_T13</th>\n",
       "      <th>APPLICATION_TYPE_T14</th>\n",
       "      <th>APPLICATION_TYPE_T15</th>\n",
       "      <th>APPLICATION_TYPE_T17</th>\n",
       "      <th>...</th>\n",
       "      <th>CLASSIFICATION_C6000</th>\n",
       "      <th>CLASSIFICATION_C6100</th>\n",
       "      <th>CLASSIFICATION_C7000</th>\n",
       "      <th>CLASSIFICATION_C7100</th>\n",
       "      <th>CLASSIFICATION_C7120</th>\n",
       "      <th>CLASSIFICATION_C7200</th>\n",
       "      <th>CLASSIFICATION_C7210</th>\n",
       "      <th>CLASSIFICATION_C8000</th>\n",
       "      <th>CLASSIFICATION_C8200</th>\n",
       "      <th>CLASSIFICATION_C8210</th>\n",
       "    </tr>\n",
       "  </thead>\n",
       "  <tbody>\n",
       "    <tr>\n",
       "      <th>0</th>\n",
       "      <td>1.0</td>\n",
       "      <td>0.0</td>\n",
       "      <td>0.0</td>\n",
       "      <td>0.0</td>\n",
       "      <td>1.0</td>\n",
       "      <td>0.0</td>\n",
       "      <td>0.0</td>\n",
       "      <td>0.0</td>\n",
       "      <td>0.0</td>\n",
       "      <td>0.0</td>\n",
       "      <td>...</td>\n",
       "      <td>0.0</td>\n",
       "      <td>0.0</td>\n",
       "      <td>0.0</td>\n",
       "      <td>0.0</td>\n",
       "      <td>0.0</td>\n",
       "      <td>0.0</td>\n",
       "      <td>0.0</td>\n",
       "      <td>0.0</td>\n",
       "      <td>0.0</td>\n",
       "      <td>0.0</td>\n",
       "    </tr>\n",
       "    <tr>\n",
       "      <th>1</th>\n",
       "      <td>0.0</td>\n",
       "      <td>1.0</td>\n",
       "      <td>0.0</td>\n",
       "      <td>0.0</td>\n",
       "      <td>0.0</td>\n",
       "      <td>0.0</td>\n",
       "      <td>0.0</td>\n",
       "      <td>0.0</td>\n",
       "      <td>0.0</td>\n",
       "      <td>0.0</td>\n",
       "      <td>...</td>\n",
       "      <td>0.0</td>\n",
       "      <td>0.0</td>\n",
       "      <td>0.0</td>\n",
       "      <td>0.0</td>\n",
       "      <td>0.0</td>\n",
       "      <td>0.0</td>\n",
       "      <td>0.0</td>\n",
       "      <td>0.0</td>\n",
       "      <td>0.0</td>\n",
       "      <td>0.0</td>\n",
       "    </tr>\n",
       "    <tr>\n",
       "      <th>2</th>\n",
       "      <td>1.0</td>\n",
       "      <td>0.0</td>\n",
       "      <td>0.0</td>\n",
       "      <td>0.0</td>\n",
       "      <td>0.0</td>\n",
       "      <td>0.0</td>\n",
       "      <td>0.0</td>\n",
       "      <td>0.0</td>\n",
       "      <td>0.0</td>\n",
       "      <td>0.0</td>\n",
       "      <td>...</td>\n",
       "      <td>0.0</td>\n",
       "      <td>0.0</td>\n",
       "      <td>0.0</td>\n",
       "      <td>0.0</td>\n",
       "      <td>0.0</td>\n",
       "      <td>0.0</td>\n",
       "      <td>0.0</td>\n",
       "      <td>0.0</td>\n",
       "      <td>0.0</td>\n",
       "      <td>0.0</td>\n",
       "    </tr>\n",
       "    <tr>\n",
       "      <th>3</th>\n",
       "      <td>0.0</td>\n",
       "      <td>0.0</td>\n",
       "      <td>0.0</td>\n",
       "      <td>1.0</td>\n",
       "      <td>0.0</td>\n",
       "      <td>0.0</td>\n",
       "      <td>0.0</td>\n",
       "      <td>0.0</td>\n",
       "      <td>0.0</td>\n",
       "      <td>0.0</td>\n",
       "      <td>...</td>\n",
       "      <td>0.0</td>\n",
       "      <td>0.0</td>\n",
       "      <td>0.0</td>\n",
       "      <td>0.0</td>\n",
       "      <td>0.0</td>\n",
       "      <td>0.0</td>\n",
       "      <td>0.0</td>\n",
       "      <td>0.0</td>\n",
       "      <td>0.0</td>\n",
       "      <td>0.0</td>\n",
       "    </tr>\n",
       "    <tr>\n",
       "      <th>4</th>\n",
       "      <td>0.0</td>\n",
       "      <td>0.0</td>\n",
       "      <td>0.0</td>\n",
       "      <td>1.0</td>\n",
       "      <td>0.0</td>\n",
       "      <td>0.0</td>\n",
       "      <td>0.0</td>\n",
       "      <td>0.0</td>\n",
       "      <td>0.0</td>\n",
       "      <td>0.0</td>\n",
       "      <td>...</td>\n",
       "      <td>0.0</td>\n",
       "      <td>0.0</td>\n",
       "      <td>0.0</td>\n",
       "      <td>0.0</td>\n",
       "      <td>0.0</td>\n",
       "      <td>0.0</td>\n",
       "      <td>0.0</td>\n",
       "      <td>0.0</td>\n",
       "      <td>0.0</td>\n",
       "      <td>0.0</td>\n",
       "    </tr>\n",
       "  </tbody>\n",
       "</table>\n",
       "<p>5 rows × 114 columns</p>\n",
       "</div>"
      ],
      "text/plain": [
       "   ORGANIZATION_Association  ORGANIZATION_Co-operative  \\\n",
       "0                       1.0                        0.0   \n",
       "1                       0.0                        1.0   \n",
       "2                       1.0                        0.0   \n",
       "3                       0.0                        0.0   \n",
       "4                       0.0                        0.0   \n",
       "\n",
       "   ORGANIZATION_Corporation  ORGANIZATION_Trust  APPLICATION_TYPE_T10  \\\n",
       "0                       0.0                 0.0                   1.0   \n",
       "1                       0.0                 0.0                   0.0   \n",
       "2                       0.0                 0.0                   0.0   \n",
       "3                       0.0                 1.0                   0.0   \n",
       "4                       0.0                 1.0                   0.0   \n",
       "\n",
       "   APPLICATION_TYPE_T12  APPLICATION_TYPE_T13  APPLICATION_TYPE_T14  \\\n",
       "0                   0.0                   0.0                   0.0   \n",
       "1                   0.0                   0.0                   0.0   \n",
       "2                   0.0                   0.0                   0.0   \n",
       "3                   0.0                   0.0                   0.0   \n",
       "4                   0.0                   0.0                   0.0   \n",
       "\n",
       "   APPLICATION_TYPE_T15  APPLICATION_TYPE_T17  ...  CLASSIFICATION_C6000  \\\n",
       "0                   0.0                   0.0  ...                   0.0   \n",
       "1                   0.0                   0.0  ...                   0.0   \n",
       "2                   0.0                   0.0  ...                   0.0   \n",
       "3                   0.0                   0.0  ...                   0.0   \n",
       "4                   0.0                   0.0  ...                   0.0   \n",
       "\n",
       "   CLASSIFICATION_C6100  CLASSIFICATION_C7000  CLASSIFICATION_C7100  \\\n",
       "0                   0.0                   0.0                   0.0   \n",
       "1                   0.0                   0.0                   0.0   \n",
       "2                   0.0                   0.0                   0.0   \n",
       "3                   0.0                   0.0                   0.0   \n",
       "4                   0.0                   0.0                   0.0   \n",
       "\n",
       "   CLASSIFICATION_C7120  CLASSIFICATION_C7200  CLASSIFICATION_C7210  \\\n",
       "0                   0.0                   0.0                   0.0   \n",
       "1                   0.0                   0.0                   0.0   \n",
       "2                   0.0                   0.0                   0.0   \n",
       "3                   0.0                   0.0                   0.0   \n",
       "4                   0.0                   0.0                   0.0   \n",
       "\n",
       "   CLASSIFICATION_C8000  CLASSIFICATION_C8200  CLASSIFICATION_C8210  \n",
       "0                   0.0                   0.0                   0.0  \n",
       "1                   0.0                   0.0                   0.0  \n",
       "2                   0.0                   0.0                   0.0  \n",
       "3                   0.0                   0.0                   0.0  \n",
       "4                   0.0                   0.0                   0.0  \n",
       "\n",
       "[5 rows x 114 columns]"
      ]
     },
     "execution_count": 12,
     "metadata": {},
     "output_type": "execute_result"
    }
   ],
   "source": [
    "# Create a OneHotEncoder instance\n",
    "enc = OneHotEncoder(sparse=False)\n",
    "\n",
    "# Fit and transform the OneHotEncoder using the categorical variable list\n",
    "#  YOUR CODE GOES HERE\n",
    "encode_df = pd.DataFrame(enc.fit_transform(application_df[application_cat]))\n",
    "\n",
    "\n",
    "# Add the encoded variable names to the dataframe\n",
    "encode_df.columns = enc.get_feature_names(application_cat)\n",
    "encode_df.head()"
   ]
  },
  {
   "cell_type": "code",
   "execution_count": 24,
   "metadata": {},
   "outputs": [],
   "source": [
    "# Merge one-hot encoded features and drop the originals\n",
    "#  YOUR CODE GOES HERE\n",
    "application_df = application_df.merge(encode_df,left_index=True,right_index=True).drop(application_cat,1)"
   ]
  },
  {
   "cell_type": "code",
   "execution_count": 26,
   "metadata": {},
   "outputs": [],
   "source": [
    "# Split our preprocessed data into our features and target arrays\n",
    "#  YOUR CODE GOES HERE\n",
    "X = application_df.drop([\"IS_SUCCESSFUL\"],axis=1)\n",
    "y = application_df[\"IS_SUCCESSFUL\"]\n",
    "\n",
    "# Split the preprocessed data into a training and testing dataset\n",
    "#  YOUR CODE GOES HERE\n",
    "X_train, X_test, Y_train, Y_test = train_test_split(X, y, random_state = 0, test_size = 0.2)"
   ]
  },
  {
   "cell_type": "code",
   "execution_count": 27,
   "metadata": {},
   "outputs": [],
   "source": [
    "# Create a StandardScaler instances\n",
    "scaler = StandardScaler()\n",
    "\n",
    "# Fit the StandardScaler\n",
    "X_scaler = scaler.fit(X_train)\n",
    "\n",
    "# Scale the data\n",
    "X_train_scaled = X_scaler.transform(X_train)\n",
    "X_test_scaled = X_scaler.transform(X_test)"
   ]
  },
  {
   "cell_type": "code",
   "execution_count": 28,
   "metadata": {},
   "outputs": [
    {
     "data": {
      "text/plain": [
       "Index(['STATUS', 'ASK_AMT', 'IS_SUCCESSFUL', 'ORGANIZATION_Association',\n",
       "       'ORGANIZATION_Co-operative', 'ORGANIZATION_Corporation',\n",
       "       'ORGANIZATION_Trust', 'APPLICATION_TYPE_T10', 'APPLICATION_TYPE_T12',\n",
       "       'APPLICATION_TYPE_T13',\n",
       "       ...\n",
       "       'CLASSIFICATION_C6000', 'CLASSIFICATION_C6100', 'CLASSIFICATION_C7000',\n",
       "       'CLASSIFICATION_C7100', 'CLASSIFICATION_C7120', 'CLASSIFICATION_C7200',\n",
       "       'CLASSIFICATION_C7210', 'CLASSIFICATION_C8000', 'CLASSIFICATION_C8200',\n",
       "       'CLASSIFICATION_C8210'],\n",
       "      dtype='object', length=117)"
      ]
     },
     "execution_count": 28,
     "metadata": {},
     "output_type": "execute_result"
    }
   ],
   "source": [
    "application_df.columns"
   ]
  },
  {
   "cell_type": "markdown",
   "metadata": {},
   "source": [
    "### Deliverable 2: Compile, Train and Evaluate the Model"
   ]
  },
  {
   "cell_type": "code",
   "execution_count": 35,
   "metadata": {},
   "outputs": [
    {
     "name": "stdout",
     "output_type": "stream",
     "text": [
      "Model: \"sequential_2\"\n",
      "_________________________________________________________________\n",
      "Layer (type)                 Output Shape              Param #   \n",
      "=================================================================\n",
      "dense_5 (Dense)              (None, 10)                1170      \n",
      "_________________________________________________________________\n",
      "dense_6 (Dense)              (None, 3)                 33        \n",
      "_________________________________________________________________\n",
      "dense_7 (Dense)              (None, 1)                 4         \n",
      "=================================================================\n",
      "Total params: 1,207\n",
      "Trainable params: 1,207\n",
      "Non-trainable params: 0\n",
      "_________________________________________________________________\n"
     ]
    }
   ],
   "source": [
    "# Define the model - deep neural net, i.e., the number of input features and hidden nodes for each layer.\n",
    "#  YOUR CODE GOES HERE\n",
    "\n",
    "nn = tf.keras.models.Sequential()\n",
    "\n",
    "# First hidden layer\n",
    "#  YOUR CODE GOES HERE\n",
    "nn.add(tf.keras.layers.Dense(units=10,activation=\"relu\",input_dim=116))\n",
    "\n",
    "# Second hidden layer\n",
    "#  YOUR CODE GOES HERE\n",
    "nn.add(tf.keras.layers.Dense(units=3,activation=\"relu\"))\n",
    "\n",
    "# Output layer\n",
    "#  YOUR CODE GOES HERE\n",
    "nn.add(tf.keras.layers.Dense(units=1, activation=\"sigmoid\"))\n",
    "\n",
    "# Check the structure of the model\n",
    "nn.summary()"
   ]
  },
  {
   "cell_type": "code",
   "execution_count": 36,
   "metadata": {},
   "outputs": [],
   "source": [
    "# Compile the model\n",
    "#  YOUR CODE GOES HERE\n",
    "nn.compile(loss=\"binary_crossentropy\", optimizer=\"adam\", metrics=[\"accuracy\"])"
   ]
  },
  {
   "cell_type": "code",
   "execution_count": 37,
   "metadata": {},
   "outputs": [
    {
     "name": "stdout",
     "output_type": "stream",
     "text": [
      "Epoch 1/100\n",
      "858/858 [==============================] - 1s 718us/step - loss: 0.6548 - accuracy: 0.6430\n",
      "Epoch 2/100\n",
      "858/858 [==============================] - 1s 717us/step - loss: 0.5871 - accuracy: 0.7246\n",
      "Epoch 3/100\n",
      "858/858 [==============================] - 1s 777us/step - loss: 0.5768 - accuracy: 0.7252\n",
      "Epoch 4/100\n",
      "858/858 [==============================] - 1s 754us/step - loss: 0.5732 - accuracy: 0.7270\n",
      "Epoch 5/100\n",
      "858/858 [==============================] - 1s 716us/step - loss: 0.5728 - accuracy: 0.7253\n",
      "Epoch 6/100\n",
      "858/858 [==============================] - 1s 688us/step - loss: 0.5671 - accuracy: 0.7309\n",
      "Epoch 7/100\n",
      "858/858 [==============================] - 1s 684us/step - loss: 0.5626 - accuracy: 0.7328\n",
      "Epoch 8/100\n",
      "858/858 [==============================] - 1s 681us/step - loss: 0.5638 - accuracy: 0.7299\n",
      "Epoch 9/100\n",
      "858/858 [==============================] - 1s 685us/step - loss: 0.5621 - accuracy: 0.7299\n",
      "Epoch 10/100\n",
      "858/858 [==============================] - 1s 674us/step - loss: 0.5598 - accuracy: 0.7320\n",
      "Epoch 11/100\n",
      "858/858 [==============================] - 1s 667us/step - loss: 0.5596 - accuracy: 0.7324\n",
      "Epoch 12/100\n",
      "858/858 [==============================] - 1s 681us/step - loss: 0.5586 - accuracy: 0.7345\n",
      "Epoch 13/100\n",
      "858/858 [==============================] - 1s 697us/step - loss: 0.5497 - accuracy: 0.7412\n",
      "Epoch 14/100\n",
      "858/858 [==============================] - 1s 680us/step - loss: 0.5567 - accuracy: 0.7328\n",
      "Epoch 15/100\n",
      "858/858 [==============================] - 1s 673us/step - loss: 0.5519 - accuracy: 0.7374\n",
      "Epoch 16/100\n",
      "858/858 [==============================] - 1s 693us/step - loss: 0.5531 - accuracy: 0.7364\n",
      "Epoch 17/100\n",
      "858/858 [==============================] - 1s 695us/step - loss: 0.5565 - accuracy: 0.7345\n",
      "Epoch 18/100\n",
      "858/858 [==============================] - ETA: 0s - loss: 0.5538 - accuracy: 0.73 - 1s 687us/step - loss: 0.5539 - accuracy: 0.7381\n",
      "Epoch 19/100\n",
      "858/858 [==============================] - 1s 670us/step - loss: 0.5530 - accuracy: 0.7298\n",
      "Epoch 20/100\n",
      "858/858 [==============================] - 1s 680us/step - loss: 0.5550 - accuracy: 0.7304\n",
      "Epoch 21/100\n",
      "858/858 [==============================] - 1s 690us/step - loss: 0.5464 - accuracy: 0.7380\n",
      "Epoch 22/100\n",
      "858/858 [==============================] - 1s 672us/step - loss: 0.5504 - accuracy: 0.7332\n",
      "Epoch 23/100\n",
      "858/858 [==============================] - 1s 674us/step - loss: 0.5429 - accuracy: 0.7407\n",
      "Epoch 24/100\n",
      "858/858 [==============================] - 1s 679us/step - loss: 0.5449 - accuracy: 0.7372\n",
      "Epoch 25/100\n",
      "858/858 [==============================] - 1s 677us/step - loss: 0.5460 - accuracy: 0.7384\n",
      "Epoch 26/100\n",
      "858/858 [==============================] - 1s 689us/step - loss: 0.5497 - accuracy: 0.7336\n",
      "Epoch 27/100\n",
      "858/858 [==============================] - 1s 685us/step - loss: 0.5484 - accuracy: 0.7356\n",
      "Epoch 28/100\n",
      "858/858 [==============================] - 1s 721us/step - loss: 0.5511 - accuracy: 0.7321\n",
      "Epoch 29/100\n",
      "858/858 [==============================] - 1s 757us/step - loss: 0.5453 - accuracy: 0.7367\n",
      "Epoch 30/100\n",
      "858/858 [==============================] - 1s 776us/step - loss: 0.5420 - accuracy: 0.7405\n",
      "Epoch 31/100\n",
      "858/858 [==============================] - 1s 708us/step - loss: 0.5514 - accuracy: 0.7322\n",
      "Epoch 32/100\n",
      "858/858 [==============================] - 1s 673us/step - loss: 0.5494 - accuracy: 0.7341\n",
      "Epoch 33/100\n",
      "858/858 [==============================] - 1s 676us/step - loss: 0.5445 - accuracy: 0.7362\n",
      "Epoch 34/100\n",
      "858/858 [==============================] - 1s 684us/step - loss: 0.5450 - accuracy: 0.7381\n",
      "Epoch 35/100\n",
      "858/858 [==============================] - 1s 679us/step - loss: 0.5460 - accuracy: 0.7387\n",
      "Epoch 36/100\n",
      "858/858 [==============================] - ETA: 0s - loss: 0.5409 - accuracy: 0.74 - 1s 686us/step - loss: 0.5412 - accuracy: 0.7405\n",
      "Epoch 37/100\n",
      "858/858 [==============================] - 1s 697us/step - loss: 0.5462 - accuracy: 0.7368\n",
      "Epoch 38/100\n",
      "858/858 [==============================] - 1s 668us/step - loss: 0.5494 - accuracy: 0.7329\n",
      "Epoch 39/100\n",
      "858/858 [==============================] - 1s 677us/step - loss: 0.5436 - accuracy: 0.7385\n",
      "Epoch 40/100\n",
      "858/858 [==============================] - 1s 670us/step - loss: 0.5416 - accuracy: 0.7402\n",
      "Epoch 41/100\n",
      "858/858 [==============================] - 1s 705us/step - loss: 0.5483 - accuracy: 0.7354\n",
      "Epoch 42/100\n",
      "858/858 [==============================] - 1s 691us/step - loss: 0.5406 - accuracy: 0.7374\n",
      "Epoch 43/100\n",
      "858/858 [==============================] - 1s 684us/step - loss: 0.5455 - accuracy: 0.7355\n",
      "Epoch 44/100\n",
      "858/858 [==============================] - 1s 694us/step - loss: 0.5449 - accuracy: 0.7359\n",
      "Epoch 45/100\n",
      "858/858 [==============================] - 1s 698us/step - loss: 0.5440 - accuracy: 0.7370\n",
      "Epoch 46/100\n",
      "858/858 [==============================] - 1s 687us/step - loss: 0.5441 - accuracy: 0.7382\n",
      "Epoch 47/100\n",
      "858/858 [==============================] - 1s 697us/step - loss: 0.5427 - accuracy: 0.7370\n",
      "Epoch 48/100\n",
      "858/858 [==============================] - 1s 673us/step - loss: 0.5466 - accuracy: 0.7359\n",
      "Epoch 49/100\n",
      "858/858 [==============================] - 1s 673us/step - loss: 0.5399 - accuracy: 0.7401\n",
      "Epoch 50/100\n",
      "858/858 [==============================] - 1s 680us/step - loss: 0.5460 - accuracy: 0.7331\n",
      "Epoch 51/100\n",
      "858/858 [==============================] - 1s 675us/step - loss: 0.5405 - accuracy: 0.7386\n",
      "Epoch 52/100\n",
      "858/858 [==============================] - 1s 678us/step - loss: 0.5449 - accuracy: 0.7338\n",
      "Epoch 53/100\n",
      "858/858 [==============================] - 1s 683us/step - loss: 0.5491 - accuracy: 0.7317\n",
      "Epoch 54/100\n",
      "858/858 [==============================] - 1s 678us/step - loss: 0.5412 - accuracy: 0.7385\n",
      "Epoch 55/100\n",
      "858/858 [==============================] - 1s 681us/step - loss: 0.5396 - accuracy: 0.7428\n",
      "Epoch 56/100\n",
      "858/858 [==============================] - 1s 733us/step - loss: 0.5396 - accuracy: 0.7419\n",
      "Epoch 57/100\n",
      "858/858 [==============================] - 1s 783us/step - loss: 0.5401 - accuracy: 0.7391\n",
      "Epoch 58/100\n",
      "858/858 [==============================] - 1s 710us/step - loss: 0.5431 - accuracy: 0.7374\n",
      "Epoch 59/100\n",
      "858/858 [==============================] - 1s 674us/step - loss: 0.5435 - accuracy: 0.7353\n",
      "Epoch 60/100\n",
      "858/858 [==============================] - 1s 667us/step - loss: 0.5416 - accuracy: 0.7350\n",
      "Epoch 61/100\n",
      "858/858 [==============================] - 1s 670us/step - loss: 0.5389 - accuracy: 0.7386\n",
      "Epoch 62/100\n",
      "858/858 [==============================] - 1s 678us/step - loss: 0.5403 - accuracy: 0.7412\n",
      "Epoch 63/100\n",
      "858/858 [==============================] - 1s 687us/step - loss: 0.5449 - accuracy: 0.7341\n",
      "Epoch 64/100\n",
      "858/858 [==============================] - 1s 678us/step - loss: 0.5385 - accuracy: 0.7420\n",
      "Epoch 65/100\n",
      "858/858 [==============================] - 1s 673us/step - loss: 0.5364 - accuracy: 0.7411\n",
      "Epoch 66/100\n",
      "858/858 [==============================] - 1s 678us/step - loss: 0.5373 - accuracy: 0.7401\n",
      "Epoch 67/100\n",
      "858/858 [==============================] - 1s 684us/step - loss: 0.5423 - accuracy: 0.7358\n",
      "Epoch 68/100\n",
      "858/858 [==============================] - 1s 671us/step - loss: 0.5410 - accuracy: 0.7367\n",
      "Epoch 69/100\n",
      "858/858 [==============================] - 1s 672us/step - loss: 0.5434 - accuracy: 0.7365\n",
      "Epoch 70/100\n",
      "858/858 [==============================] - 1s 674us/step - loss: 0.5397 - accuracy: 0.7391\n",
      "Epoch 71/100\n",
      "858/858 [==============================] - 1s 675us/step - loss: 0.5469 - accuracy: 0.7320\n",
      "Epoch 72/100\n",
      "858/858 [==============================] - 1s 673us/step - loss: 0.5400 - accuracy: 0.7407\n",
      "Epoch 73/100\n",
      "858/858 [==============================] - 1s 669us/step - loss: 0.5433 - accuracy: 0.7323\n",
      "Epoch 74/100\n",
      "858/858 [==============================] - 1s 672us/step - loss: 0.5426 - accuracy: 0.7385\n",
      "Epoch 75/100\n",
      "858/858 [==============================] - 1s 670us/step - loss: 0.5410 - accuracy: 0.7390\n",
      "Epoch 76/100\n",
      "858/858 [==============================] - 1s 676us/step - loss: 0.5397 - accuracy: 0.7388\n",
      "Epoch 77/100\n",
      "858/858 [==============================] - 1s 678us/step - loss: 0.5432 - accuracy: 0.7381\n",
      "Epoch 78/100\n",
      "858/858 [==============================] - 1s 683us/step - loss: 0.5419 - accuracy: 0.7335\n",
      "Epoch 79/100\n"
     ]
    },
    {
     "name": "stdout",
     "output_type": "stream",
     "text": [
      "858/858 [==============================] - 1s 676us/step - loss: 0.5420 - accuracy: 0.7394\n",
      "Epoch 80/100\n",
      "858/858 [==============================] - 1s 667us/step - loss: 0.5388 - accuracy: 0.7401\n",
      "Epoch 81/100\n",
      "858/858 [==============================] - 1s 677us/step - loss: 0.5426 - accuracy: 0.7394\n",
      "Epoch 82/100\n",
      "858/858 [==============================] - 1s 687us/step - loss: 0.5453 - accuracy: 0.7351\n",
      "Epoch 83/100\n",
      "858/858 [==============================] - 1s 723us/step - loss: 0.5412 - accuracy: 0.7392\n",
      "Epoch 84/100\n",
      "858/858 [==============================] - 1s 762us/step - loss: 0.5392 - accuracy: 0.7393\n",
      "Epoch 85/100\n",
      "858/858 [==============================] - 1s 721us/step - loss: 0.5414 - accuracy: 0.7356\n",
      "Epoch 86/100\n",
      "858/858 [==============================] - 1s 683us/step - loss: 0.5377 - accuracy: 0.7401\n",
      "Epoch 87/100\n",
      "858/858 [==============================] - 1s 675us/step - loss: 0.5374 - accuracy: 0.7406\n",
      "Epoch 88/100\n",
      "858/858 [==============================] - 1s 682us/step - loss: 0.5425 - accuracy: 0.7377\n",
      "Epoch 89/100\n",
      "858/858 [==============================] - 1s 687us/step - loss: 0.5376 - accuracy: 0.7407\n",
      "Epoch 90/100\n",
      "858/858 [==============================] - 1s 684us/step - loss: 0.5407 - accuracy: 0.7387\n",
      "Epoch 91/100\n",
      "858/858 [==============================] - 1s 672us/step - loss: 0.5405 - accuracy: 0.7379\n",
      "Epoch 92/100\n",
      "858/858 [==============================] - 1s 690us/step - loss: 0.5419 - accuracy: 0.7395\n",
      "Epoch 93/100\n",
      "858/858 [==============================] - 1s 681us/step - loss: 0.5473 - accuracy: 0.7325\n",
      "Epoch 94/100\n",
      "858/858 [==============================] - 1s 689us/step - loss: 0.5388 - accuracy: 0.7403\n",
      "Epoch 95/100\n",
      "858/858 [==============================] - 1s 681us/step - loss: 0.5419 - accuracy: 0.7370\n",
      "Epoch 96/100\n",
      "858/858 [==============================] - 1s 690us/step - loss: 0.5420 - accuracy: 0.7354\n",
      "Epoch 97/100\n",
      "858/858 [==============================] - 1s 683us/step - loss: 0.5399 - accuracy: 0.7329\n",
      "Epoch 98/100\n",
      "858/858 [==============================] - 1s 669us/step - loss: 0.5359 - accuracy: 0.74500s - loss: 0.527\n",
      "Epoch 99/100\n",
      "858/858 [==============================] - 1s 674us/step - loss: 0.5346 - accuracy: 0.7411\n",
      "Epoch 100/100\n",
      "858/858 [==============================] - 1s 675us/step - loss: 0.5359 - accuracy: 0.7427\n"
     ]
    },
    {
     "data": {
      "text/plain": [
       "<matplotlib.axes._subplots.AxesSubplot at 0x27c45293070>"
      ]
     },
     "execution_count": 37,
     "metadata": {},
     "output_type": "execute_result"
    },
    {
     "data": {
      "image/png": "[encoded data removed]",
      "text/plain": [
       "<Figure size 432x288 with 1 Axes>"
      ]
     },
     "metadata": {
      "needs_background": "light"
     },
     "output_type": "display_data"
    },
    {
     "data": {
      "image/png": "[encoded data removed]",
      "text/plain": [
       "<Figure size 432x288 with 1 Axes>"
      ]
     },
     "metadata": {
      "needs_background": "light"
     },
     "output_type": "display_data"
    }
   ],
   "source": [
    "# Train the model\n",
    "#  YOUR CODE GOES HERE\n",
    "fit_model = nn.fit(X_train_scaled, Y_train, epochs=100)\n",
    "# Create a DataFrame containing training history\n",
    "history_df = pd.DataFrame(fit_model.history, index=range(1,len(fit_model.history[\"loss\"])+1))\n",
    "\n",
    "# Plot the loss\n",
    "history_df.plot(y=\"loss\")\n",
    "# Plot the accuracy\n",
    "history_df.plot(y=\"accuracy\")"
   ]
  },
  {
   "cell_type": "code",
   "execution_count": 39,
   "metadata": {},
   "outputs": [
    {
     "name": "stdout",
     "output_type": "stream",
     "text": [
      "215/215 - 0s - loss: 0.5643 - accuracy: 0.7210\n",
      "Loss: 0.5642784833908081, Accuracy: 0.7209912538528442\n"
     ]
    }
   ],
   "source": [
    "# Evaluate the model using the test data\n",
    "model_loss, model_accuracy = nn.evaluate(X_test_scaled,Y_test,verbose=2)\n",
    "print(f\"Loss: {model_loss}, Accuracy: {model_accuracy}\")"
   ]
  },
  {
   "cell_type": "code",
   "execution_count": null,
   "metadata": {},
   "outputs": [],
   "source": []
  }
 ],
 "metadata": {
  "kernelspec": {
   "display_name": "Python 3",
   "language": "python",
   "name": "python3"
  },
  "language_info": {
   "codemirror_mode": {
    "name": "ipython",
    "version": 3
   },
   "file_extension": ".py",
   "mimetype": "text/x-python",
   "name": "python",
   "nbconvert_exporter": "python",
   "pygments_lexer": "ipython3",
   "version": "3.8.3"
  }
 },
 "nbformat": 4,
 "nbformat_minor": 2
}
